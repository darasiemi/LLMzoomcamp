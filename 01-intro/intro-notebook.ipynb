{
 "cells": [
  {
   "cell_type": "code",
   "execution_count": 12,
   "id": "93ff016d-47ab-4f45-aca1-8c68e48fe61b",
   "metadata": {},
   "outputs": [],
   "source": [
    "from openai import OpenAI"
   ]
  },
  {
   "cell_type": "code",
   "execution_count": 18,
   "id": "dfb9addf-7fdd-418f-9c51-c4d67a0ea153",
   "metadata": {},
   "outputs": [],
   "source": [
    "import os\n",
    "\n",
    "os.environ;"
   ]
  },
  {
   "cell_type": "code",
   "execution_count": 19,
   "id": "7f302a8b-c430-4ed5-a48b-32a8112ba3ff",
   "metadata": {},
   "outputs": [],
   "source": [
    "client = OpenAI()"
   ]
  },
  {
   "cell_type": "code",
   "execution_count": 20,
   "id": "1a341a92-e634-437a-98bd-d08f7d01903a",
   "metadata": {},
   "outputs": [],
   "source": [
    "response = client.chat.completions.create(\n",
    "    model='gpt-4o',\n",
    "    messages=[{\"role\": \"user\", \"content\" : \"is it too late to join the course?\"}]\n",
    ")"
   ]
  },
  {
   "cell_type": "code",
   "execution_count": 21,
   "id": "cbda1035-3f5e-4a93-8592-4f743be9cee2",
   "metadata": {},
   "outputs": [
    {
     "data": {
      "text/plain": [
       "ChatCompletion(id='chatcmpl-9xFFwCCCe086qEiSsOvohk5hO696K', choices=[Choice(finish_reason='stop', index=0, logprobs=None, message=ChatCompletionMessage(content=\"It's difficult to say without more context. Course enrollment timelines depend on the specific institution or platform offering the course. Generally, academic institutions have set enrollment periods at the beginning of each term, while online courses on platforms like Coursera, edX, or Udemy often offer rolling or more flexible enrollment.\\n\\nHere are some steps you can take to find out if it's too late to join:\\n\\n1. **Check Enrollment Deadlines**: Look for information on the course website or contact the admissions office if it's a university course.\\n2. **Contact the Instructor**: Sometimes instructors can allow late enrollments, especially if the course has just started.\\n3. **Look for Alternatives**: If enrollment is closed, ask if there are other similar courses or future sessions you can join.\\n4. **Consider Online Platforms**: For many online learning platforms, courses are available to start at any time.\\n\\nWould you like help with a specific course or institution?\", refusal=None, role='assistant', function_call=None, tool_calls=None))], created=1723907024, model='gpt-4o-2024-05-13', object='chat.completion', service_tier=None, system_fingerprint='fp_3aa7262c27', usage=CompletionUsage(completion_tokens=189, prompt_tokens=16, total_tokens=205))"
      ]
     },
     "execution_count": 21,
     "metadata": {},
     "output_type": "execute_result"
    }
   ],
   "source": [
    "response"
   ]
  },
  {
   "cell_type": "code",
   "execution_count": 22,
   "id": "d312d2a3-b43a-44ba-9bb4-bd195572fff4",
   "metadata": {},
   "outputs": [
    {
     "data": {
      "text/plain": [
       "\"It's difficult to say without more context. Course enrollment timelines depend on the specific institution or platform offering the course. Generally, academic institutions have set enrollment periods at the beginning of each term, while online courses on platforms like Coursera, edX, or Udemy often offer rolling or more flexible enrollment.\\n\\nHere are some steps you can take to find out if it's too late to join:\\n\\n1. **Check Enrollment Deadlines**: Look for information on the course website or contact the admissions office if it's a university course.\\n2. **Contact the Instructor**: Sometimes instructors can allow late enrollments, especially if the course has just started.\\n3. **Look for Alternatives**: If enrollment is closed, ask if there are other similar courses or future sessions you can join.\\n4. **Consider Online Platforms**: For many online learning platforms, courses are available to start at any time.\\n\\nWould you like help with a specific course or institution?\""
      ]
     },
     "execution_count": 22,
     "metadata": {},
     "output_type": "execute_result"
    }
   ],
   "source": [
    "response.choices[0].message.content"
   ]
  },
  {
   "cell_type": "code",
   "execution_count": null,
   "id": "6abf5591-1da9-4c20-913f-19959fbc26fd",
   "metadata": {},
   "outputs": [],
   "source": []
  }
 ],
 "metadata": {
  "kernelspec": {
   "display_name": "Python 3 (ipykernel)",
   "language": "python",
   "name": "python3"
  },
  "language_info": {
   "codemirror_mode": {
    "name": "ipython",
    "version": 3
   },
   "file_extension": ".py",
   "mimetype": "text/x-python",
   "name": "python",
   "nbconvert_exporter": "python",
   "pygments_lexer": "ipython3",
   "version": "3.12.4"
  }
 },
 "nbformat": 4,
 "nbformat_minor": 5
}
